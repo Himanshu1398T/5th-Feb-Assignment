{
 "cells": [
  {
   "cell_type": "markdown",
   "id": "c1397d4b",
   "metadata": {},
   "source": [
    "### Q1. Explain Class and Object with respect to Object-Oriented Programming. Give a suitable example."
   ]
  },
  {
   "cell_type": "markdown",
   "id": "0ed8c9f9",
   "metadata": {},
   "source": [
    "A class is a blueprint that defines the varibles and the methods common to all objects of a certain kind. It helps to bind data and methods together, making the code reusable.\n",
    "\n",
    "An object is a single instance of a class, which contains data and method working on that data.</br>\n",
    "\n",
    "<p>For Example:</br>\n",
    "Consider a class called Car. The Car class might have attributes such as maker, model name, year, color, and methods such as accelerate(), brake(), and change_gears(). An object of the Car class could be a specific car, such as a 2019 Toyota Inova, with its own unique values for the attributes make, model, year, and color. The object would also have access to all the methods defined by the Car class, such as accelerate(), brake(), and change_gears().</p>"
   ]
  },
  {
   "cell_type": "code",
   "execution_count": 6,
   "id": "d8ac5cbf",
   "metadata": {},
   "outputs": [],
   "source": [
    "class Car:\n",
    "    def __init__(self, make, model, year, color):\n",
    "        self.make = make\n",
    "        self.model = model\n",
    "        self.year = year\n",
    "        self.color = color\n",
    "\n",
    "    def accelerate(self):\n",
    "        pass\n",
    "\n",
    "    def brake(self):\n",
    "        pass\n",
    "\n",
    "    def change_gears(self):\n",
    "        pass"
   ]
  },
  {
   "cell_type": "markdown",
   "id": "4b447225",
   "metadata": {},
   "source": [
    "### Q2. Name the four pillars of OOPs."
   ]
  },
  {
   "cell_type": "markdown",
   "id": "e59590d4",
   "metadata": {},
   "source": [
    "The four pillars of Object-Oriented Programming (OOP) are:\n",
    "1. Inheritance\n",
    "2. Polymorphism\n",
    "3. Encapsulation\n",
    "4. Abstraction"
   ]
  },
  {
   "cell_type": "markdown",
   "id": "5ef80823",
   "metadata": {},
   "source": [
    "### Q3. Explain why the __init__() function is used. Give a suitable example."
   ]
  },
  {
   "cell_type": "markdown",
   "id": "16c7d67f",
   "metadata": {},
   "source": [
    "<p>The __init__() function is a special method in Python classes that is called when an instance of the class is created.\n",
    "The purpose of the __init__() method is to initialize the attributes of the newly created object with values that are passed as arguments during instantiation.</br></p>\n",
    "<p>Using the __init__() method ensures that every instance of the class will have its attributes initialized properly, which is important for the correct functioning of the class methods. Without the __init__() method, we would have to manually set the attributes of every instance of the class, which could be error-prone and time-consuming.</p>"
   ]
  },
  {
   "cell_type": "code",
   "execution_count": 7,
   "id": "001281bf",
   "metadata": {},
   "outputs": [],
   "source": [
    "class Rectangle:\n",
    "    def __init__(self, length, width):\n",
    "        self.length = length\n",
    "        self.width = width\n",
    "    \n",
    "    def area(self):\n",
    "        return self.length * self.width\n",
    "    \n",
    "    def perimeter(self):\n",
    "        return 2 * (self.length + self.width)"
   ]
  },
  {
   "cell_type": "code",
   "execution_count": 12,
   "id": "addc8e85",
   "metadata": {},
   "outputs": [
    {
     "name": "stdout",
     "output_type": "stream",
     "text": [
      "50\n",
      "30\n"
     ]
    }
   ],
   "source": [
    "my_rectangle = Rectangle(10, 5)\n",
    "print(my_rectangle.area())\n",
    "print(my_rectangle.perimeter())"
   ]
  },
  {
   "cell_type": "markdown",
   "id": "2dd5231d",
   "metadata": {},
   "source": [
    "### Q4. Why self is used in OOPs"
   ]
  },
  {
   "cell_type": "markdown",
   "id": "ed4a6c95",
   "metadata": {},
   "source": [
    "<p>In Object-Oriented Programming (OOP), self is used to refer to the instance of a class that a method is being called on. It is a special parameter that is automatically passed to every method of a class, and refers to the instance that the method is called on.</p>\n",
    "<p>Using self ensures that the methods of a class can access and modify the attributes of the instance that the method is being called on, and helps to differentiate between instance variables and local variables.</p>"
   ]
  },
  {
   "cell_type": "markdown",
   "id": "b3ef314f",
   "metadata": {},
   "source": [
    "### Q5. What is inheritance? Give an example for each type of inheritance."
   ]
  },
  {
   "cell_type": "markdown",
   "id": "d6d2b806",
   "metadata": {},
   "source": [
    "<p>Inheritance is a mechanism in which one class acquires the property of another class. For example, a child inherits the traits of his/her parents. With inheritance, we can reuse the fields and methods of the existing class. Hence, inheritance facilitates Reusability and is an important concept of OOPs.</p>"
   ]
  },
  {
   "cell_type": "code",
   "execution_count": 13,
   "id": "ac081ed2",
   "metadata": {},
   "outputs": [
    {
     "name": "stdout",
     "output_type": "stream",
     "text": [
      "This function is of parent class.\n",
      "This function is of child class.\n"
     ]
    }
   ],
   "source": [
    "#Single Inheritance: Single inheritance enables a derived class to inherit properties from a single parent class\n",
    "\n",
    "# Base class\n",
    "class Parent:\n",
    "    def func1(self):\n",
    "        print(\"This function is of parent class.\")\n",
    "\n",
    "# Derived class\n",
    "class Child(Parent):\n",
    "    def func2(self):\n",
    "        print(\"This function is of child class.\")\n",
    "\n",
    "object = Child()\n",
    "object.func1()\n",
    "object.func2()\n"
   ]
  },
  {
   "cell_type": "code",
   "execution_count": 14,
   "id": "e799494c",
   "metadata": {},
   "outputs": [
    {
     "name": "stdout",
     "output_type": "stream",
     "text": [
      "Method A\n",
      "Method B\n"
     ]
    }
   ],
   "source": [
    "# Multiple Inheritance: \n",
    "# When a class can be derived from more than one base class this type of inheritance is called multiple inheritances.\n",
    "\n",
    "class A:\n",
    "    def method_a(self):\n",
    "        print(\"Method A\")\n",
    "\n",
    "class B:\n",
    "    def method_b(self):\n",
    "        print(\"Method B\")\n",
    "\n",
    "class C(A, B):\n",
    "    pass\n",
    "\n",
    "my_object = C()\n",
    "my_object.method_a()\n",
    "my_object.method_b()  "
   ]
  },
  {
   "cell_type": "code",
   "execution_count": 15,
   "id": "73925ce0",
   "metadata": {},
   "outputs": [
    {
     "name": "stdout",
     "output_type": "stream",
     "text": [
      "Eating\n",
      "Breathing\n",
      "Barking\n"
     ]
    }
   ],
   "source": [
    "#Multi-level Inheritance: \n",
    "# In multi-level inheritance, a derived class inherits from a parent class, which in turn inherits from another parent class.\n",
    "\n",
    "class Animal:\n",
    "    def eat(self):\n",
    "        print(\"Eating\")\n",
    "\n",
    "class Mammal(Animal):\n",
    "    def breathe(self):\n",
    "        print(\"Breathing\")\n",
    "\n",
    "class Dog(Mammal):\n",
    "    def bark(self):\n",
    "        print(\"Barking\")\n",
    "\n",
    "my_dog = Dog()\n",
    "my_dog.eat()    \n",
    "my_dog.breathe() \n",
    "my_dog.bark() "
   ]
  },
  {
   "cell_type": "code",
   "execution_count": 17,
   "id": "9c7179c7",
   "metadata": {},
   "outputs": [
    {
     "name": "stdout",
     "output_type": "stream",
     "text": [
      "This function is of parent class.\n",
      "This function is of child 1.\n",
      "This function is of parent class.\n",
      "This function is of child 2.\n"
     ]
    }
   ],
   "source": [
    "# Hierarchical Inheritance: In hierarchical inheritance, multiple base classes inherit from a single parent class.\n",
    "\n",
    "# Python program to demonstrate\n",
    "# Hierarchical inheritance\n",
    "\n",
    "\n",
    "# Base class\n",
    "class Parent:\n",
    "    def func1(self):\n",
    "        print(\"This function is of parent class.\")\n",
    "\n",
    "# Derived class1\n",
    "class Child1(Parent):\n",
    "    def func2(self):\n",
    "        print(\"This function is of child 1.\")\n",
    "\n",
    "# Derivied class2\n",
    "class Child2(Parent):\n",
    "    def func3(self):\n",
    "        print(\"This function is of child 2.\")\n",
    "\n",
    "\n",
    "object1 = Child1()\n",
    "object2 = Child2()\n",
    "object1.func1()\n",
    "object1.func2()\n",
    "object2.func1()\n",
    "object2.func3()"
   ]
  },
  {
   "cell_type": "code",
   "execution_count": 18,
   "id": "093cd896",
   "metadata": {},
   "outputs": [
    {
     "name": "stdout",
     "output_type": "stream",
     "text": [
      "Animal is moving\n",
      "Mammal is feeding milk\n",
      "Bird is laying eggs\n",
      "Bat is flying\n"
     ]
    }
   ],
   "source": [
    "#Hybrid Inheritance: Inheritance consisting of multiple types of inheritance is called hybrid inheritance.\n",
    "\n",
    "class Animal:\n",
    "    def move(self):\n",
    "        print(\"Animal is moving\")\n",
    "        \n",
    "class Mammal(Animal):\n",
    "    def feed_milk(self):\n",
    "        print(\"Mammal is feeding milk\")\n",
    "\n",
    "class Bird(Animal):\n",
    "    def lay_eggs(self):\n",
    "        print(\"Bird is laying eggs\")\n",
    "\n",
    "class Bat(Mammal, Bird):\n",
    "    def fly(self):\n",
    "        print(\"Bat is flying\")\n",
    "\n",
    "my_bat = Bat()\n",
    "my_bat.move()      \n",
    "my_bat.feed_milk() \n",
    "my_bat.lay_eggs()  \n",
    "my_bat.fly()        \n"
   ]
  }
 ],
 "metadata": {
  "kernelspec": {
   "display_name": "Python 3 (ipykernel)",
   "language": "python",
   "name": "python3"
  },
  "language_info": {
   "codemirror_mode": {
    "name": "ipython",
    "version": 3
   },
   "file_extension": ".py",
   "mimetype": "text/x-python",
   "name": "python",
   "nbconvert_exporter": "python",
   "pygments_lexer": "ipython3",
   "version": "3.9.13"
  }
 },
 "nbformat": 4,
 "nbformat_minor": 5
}
